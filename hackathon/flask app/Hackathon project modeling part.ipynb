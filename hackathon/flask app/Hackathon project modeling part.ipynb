{
 "cells": [
  {
   "cell_type": "markdown",
   "id": "ca6b97ce",
   "metadata": {},
   "source": [
    "# Feature Selection"
   ]
  },
  {
   "cell_type": "code",
   "execution_count": 1,
   "id": "59941ea3",
   "metadata": {},
   "outputs": [],
   "source": [
    "import pandas as pd\n",
    "import seaborn as sns\n",
    "import matplotlib.pyplot as plt\n",
    "\n",
    "# Load the dataset\n",
    "df = pd.read_csv('my_file.csv')\n"
   ]
  },
  {
   "cell_type": "code",
   "execution_count": 11,
   "id": "2b06e378",
   "metadata": {},
   "outputs": [],
   "source": [
    "df['NeutralCoasting'] = ((df['EngineSpeed'] >= 750) & (df['EngineSpeed'] <= 800) & (df['VehicleSpeed'] > 40)).astype(int)\n"
   ]
  },
  {
   "cell_type": "code",
   "execution_count": 12,
   "id": "e453795f",
   "metadata": {},
   "outputs": [],
   "source": [
    "# Selecting relevant features for model training\n",
    "features = ['EngineSpeed', 'VehicleSpeed', 'FuelLevel', 'AccPedalPosition', 'EngineCoolantTemp']\n",
    "X = df[features]\n",
    "\n",
    "# Defining the target variable\n",
    "y = df['NeutralCoasting']\n"
   ]
  },
  {
   "cell_type": "markdown",
   "id": "d28ff54f",
   "metadata": {},
   "source": [
    "# Data Modeling"
   ]
  },
  {
   "cell_type": "code",
   "execution_count": 13,
   "id": "dda4a874",
   "metadata": {},
   "outputs": [
    {
     "name": "stdout",
     "output_type": "stream",
     "text": [
      "Accuracy: 1.0\n",
      "              precision    recall  f1-score   support\n",
      "\n",
      "           0       1.00      1.00      1.00    174216\n",
      "           1       1.00      1.00      1.00      2954\n",
      "\n",
      "    accuracy                           1.00    177170\n",
      "   macro avg       1.00      1.00      1.00    177170\n",
      "weighted avg       1.00      1.00      1.00    177170\n",
      "\n"
     ]
    }
   ],
   "source": [
    "# Importing necessary libraries\n",
    "import pandas as pd\n",
    "from sklearn.model_selection import train_test_split\n",
    "from sklearn.ensemble import RandomForestClassifier\n",
    "from sklearn.metrics import accuracy_score, classification_report\n",
    "\n",
    "# Assuming 'df' is your preprocessed DataFrame containing relevant columns\n",
    "# 'NeutralCoasting' column has already been added as per previous discussion\n",
    "\n",
    "# Selecting relevant features for model training\n",
    "features = ['EngineSpeed', 'VehicleSpeed', 'FuelLevel', 'AccPedalPosition', 'EngineCoolantTemp']\n",
    "X = df[features]\n",
    "y = df['NeutralCoasting']\n",
    "\n",
    "# Splitting the data into training and testing sets\n",
    "X_train, X_test, y_train, y_test = train_test_split(X, y, test_size=0.2, random_state=42)\n",
    "\n",
    "# Initializing and training the Random Forest Classifier\n",
    "rf_clf = RandomForestClassifier(n_estimators=100, random_state=42)\n",
    "rf_clf.fit(X_train, y_train)\n",
    "\n",
    "# Making predictions on the testing set\n",
    "y_pred = rf_clf.predict(X_test)\n",
    "\n",
    "# Evaluating the model\n",
    "accuracy = accuracy_score(y_test, y_pred)\n",
    "print(\"Accuracy:\", accuracy)\n",
    "\n",
    "# Additional metrics\n",
    "print(classification_report(y_test, y_pred))\n"
   ]
  },
  {
   "cell_type": "markdown",
   "id": "c9d57d22",
   "metadata": {},
   "source": []
  },
  {
   "cell_type": "code",
   "execution_count": 23,
   "id": "d4f59257",
   "metadata": {},
   "outputs": [
    {
     "name": "stdout",
     "output_type": "stream",
     "text": [
      "You are in neutral driving stage now. You can shift gear into appropriate gear for fuel efficiency.\n"
     ]
    }
   ],
   "source": [
    "# Example single input values\n",
    "single_input = pd.DataFrame({\n",
    "    'EngineSpeed': [800],             # Example engine speed\n",
    "    'VehicleSpeed': [45],             # Example vehicle speed\n",
    "    'FuelLevel': [0.5],               # Example fuel level\n",
    "    'AccPedalPosition': [30],         # Example accelerator pedal position\n",
    "    'EngineCoolantTemp': [90]         # Example engine coolant temperature\n",
    "})\n",
    "\n",
    "# Making predictions using the trained model\n",
    "prediction = rf_clf.predict(single_input)\n",
    "\n",
    "# Displaying the prediction\n",
    "#print(\"Prediction:\", prediction[0])\n",
    "\n",
    "# Displaying the prediction\n",
    "if prediction[0] == 1:\n",
    "    print(\"You are in neutral driving stage now. You can shift gear into appropriate gear for fuel efficiency.\")\n",
    "elif prediction[0] == 0:\n",
    "    print(\"You are not in neutral driving stage.\")\n",
    "\n"
   ]
  },
  {
   "cell_type": "code",
   "execution_count": 25,
   "id": "55557daa",
   "metadata": {},
   "outputs": [
    {
     "data": {
      "text/plain": [
       "['trained_model.pkl']"
      ]
     },
     "execution_count": 25,
     "metadata": {},
     "output_type": "execute_result"
    }
   ],
   "source": [
    "# Save the trained model as a .pkl file\n",
    "dump(rf_clf, 'trained_model.pkl')"
   ]
  },
  {
   "cell_type": "code",
   "execution_count": null,
   "id": "f804ad5e",
   "metadata": {},
   "outputs": [],
   "source": []
  }
 ],
 "metadata": {
  "kernelspec": {
   "display_name": "Python 3 (ipykernel)",
   "language": "python",
   "name": "python3"
  },
  "language_info": {
   "codemirror_mode": {
    "name": "ipython",
    "version": 3
   },
   "file_extension": ".py",
   "mimetype": "text/x-python",
   "name": "python",
   "nbconvert_exporter": "python",
   "pygments_lexer": "ipython3",
   "version": "3.11.4"
  }
 },
 "nbformat": 4,
 "nbformat_minor": 5
}
